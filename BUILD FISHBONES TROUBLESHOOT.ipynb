{
 "cells": [
  {
   "cell_type": "code",
   "execution_count": null,
   "metadata": {},
   "outputs": [],
   "source": [
    "import arcpy\n",
    "import os\n",
    "import time"
   ]
  },
  {
   "cell_type": "code",
   "execution_count": null,
   "metadata": {},
   "outputs": [],
   "source": [
    "#PARAMETERS\n",
    "addPts = arcpy.GetParameterAsText(0)\n",
    "#locator = enter dual range locator here\n",
    "outputWorkspace = arcpy.GetParameterAsText(2)\n",
    "arcpy.env.overwriteOutput = True\n",
    "sr = arcpy.Describe(addPts).spatialReference\n",
    "split_name = arcpy.Describe(addPts).name.split('.')\n",
    "fishbonesFilename = 'Fishbones_' + split_name[len(split_name)-1]\n",
    "fishbones = outputWorkspace + '/' + fishbonesFilename"
   ]
  },
  {
   "cell_type": "code",
   "execution_count": null,
   "metadata": {},
   "outputs": [],
   "source": [
    "#pre-cleanup\n",
    "arcpy.Delete_management('in_memory')"
   ]
  },
  {
   "cell_type": "code",
   "execution_count": null,
   "metadata": {},
   "outputs": [],
   "source": [
    "#copy input address points to memory (this step shouldn't be necessary, but geocoding returns zero matches without copying first)\n",
    "arcpy.AddMessage('\\tCopying address points to memory...')\n",
    "mem_addresses = arcpy.CopyFeatures_management(addPts, 'in_memory/mem_addresses')"
   ]
  },
  {
   "cell_type": "code",
   "execution_count": null,
   "metadata": {},
   "outputs": [],
   "source": [
    "#update x,y fields of address points\n",
    "arcpy.AddMessage('\\tUpdating POINT_X, POINT_Y fields...')\n",
    "arcpy.AddXY_management(mem_addresses)"
   ]
  },
  {
   "cell_type": "code",
   "execution_count": null,
   "metadata": {},
   "outputs": [],
   "source": [
    "#geocode address points to centerlines\n",
    "arcpy.AddMessage('\\tGeocoding address points to centerlines...')\n",
    "address_fields = \"'Full Address' FULLADDR VISIBLE NONE\"\n",
    "geocode =  arcpy.geocoding.GeocodeAddresses(mem_addresses, locator, address_fields,'in_memory/memGeocode', 'STATIC')"
   ]
  },
  {
   "cell_type": "code",
   "execution_count": null,
   "metadata": {},
   "outputs": [],
   "source": [
    "geocode =  arcpy.geocoding.GeocodeAddresses(mem_addresses, locator, address_fields, #enter output file here, 'STATIC')\n"
   ]
  },
  {
   "cell_type": "code",
   "execution_count": null,
   "metadata": {},
   "outputs": [],
   "source": [
    "#build fishbones dataset\n",
    "arcpy.AddMessage('\\tBuilding fishbones...')\n",
    "arcpy.CreateFeatureclass_management(outputWorkspace, fishbonesFilename, 'POLYLINE', spatial_reference= sr)\n",
    "arcpy.AddField_management(fishbones, 'UNIQUE_ID', 'TEXT', field_length= 100)\n",
    "arcpy.AddField_management(fishbones, 'GEOCODE_STATUS', 'TEXT', field_length= 10)\n",
    "cursor = arcpy.da.InsertCursor(fishbones, ['UNIQUE_ID', 'GEOCODE_STATUS', 'SHAPE@'])\n",
    "for row in arcpy.da.SearchCursor(geocode, ['USER_Unique_ID', 'Status', 'USER_POINT_X', 'USER_POINT_Y', 'X', 'Y']):\n",
    "    unq_id = row[0]\n",
    "    status = row[1]\n",
    "    startX = row[2]\n",
    "    startY = row[3]\n",
    "    endX = row[4]\n",
    "    endY = row[5]\n",
    "    \n",
    "    # this line creates the geometry\n",
    "    line = arcpy.Polyline(arcpy.Array([arcpy.Point(startX,startY),arcpy.Point(endX,endY)]), sr)\n",
    "    \n",
    "    # this line inserts the geometry into the fishbones dataset\n",
    "    cursor.insertRow([unq_id, status, line])\n",
    "    del line\n",
    "del cursor"
   ]
  },
  {
   "cell_type": "code",
   "execution_count": null,
   "metadata": {},
   "outputs": [],
   "source": [
    "#cleanup\n",
    "arcpy.Delete_management('in_memory')"
   ]
  }
 ],
 "metadata": {
  "kernelspec": {
   "display_name": "Python 3",
   "language": "python",
   "name": "python3"
  },
  "language_info": {
   "codemirror_mode": {
    "name": "ipython",
    "version": 3
   },
   "file_extension": ".py",
   "mimetype": "text/x-python",
   "name": "python",
   "nbconvert_exporter": "python",
   "pygments_lexer": "ipython3",
   "version": "3.6.9"
  }
 },
 "nbformat": 4,
 "nbformat_minor": 2
}
